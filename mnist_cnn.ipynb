{
  "nbformat": 4,
  "nbformat_minor": 0,
  "metadata": {
    "colab": {
      "name": "mnist-cnn.ipynb",
      "provenance": [],
      "collapsed_sections": [],
      "authorship_tag": "ABX9TyP7NJyqogwCPXTWkDh03pQu",
      "include_colab_link": true
    },
    "kernelspec": {
      "name": "python3",
      "display_name": "Python 3"
    },
    "language_info": {
      "name": "python"
    },
    "accelerator": "GPU"
  },
  "cells": [
    {
      "cell_type": "markdown",
      "metadata": {
        "id": "view-in-github",
        "colab_type": "text"
      },
      "source": [
        "<a href=\"https://colab.research.google.com/github/shinyumi43/deep-learning/blob/main/mnist_cnn.ipynb\" target=\"_parent\"><img src=\"https://colab.research.google.com/assets/colab-badge.svg\" alt=\"Open In Colab\"/></a>"
      ]
    },
    {
      "cell_type": "code",
      "metadata": {
        "id": "_TclYjZxPA-9"
      },
      "source": [
        "import itertools, os, argparse\n",
        "import torch \n",
        "import torch.nn as nn\n",
        "import torch.nn.functional as F\n",
        "import torch.optim as optim\n",
        "import torchvision.datasets as dsets\n",
        "import torchvision.transforms as transforms\n",
        "from torch.autograd import Variable\n",
        "\n",
        "from IPython.display import Image\n",
        "from IPython import display\n",
        "import matplotlib.pyplot as plt"
      ],
      "execution_count": null,
      "outputs": []
    },
    {
      "cell_type": "code",
      "metadata": {
        "id": "t0rLnfG7PitC"
      },
      "source": [
        "device = 'cuda' if torch.cuda.is_available() else 'cpu'\n",
        "\n",
        "# 랜덤 시드 고정\n",
        "torch.manual_seed(777)\n",
        "\n",
        "# GPU 사용 가능일 경우 랜덤 시드 고정\n",
        "if device == 'cuda':\n",
        "    torch.cuda.manual_seed_all(777)"
      ],
      "execution_count": null,
      "outputs": []
    },
    {
      "cell_type": "code",
      "metadata": {
        "id": "oDmI0jUpPlCG"
      },
      "source": [
        "# 학습률\n",
        "learning_rate = 0.001 \n",
        "\n",
        "# 전체 train set에 대해 forward 및 backward step을 진행할 횟수\n",
        "training_epochs = 15 \n",
        "\n",
        "# 학습할 때 몇 개의 데이터를 넣을지 결정\n",
        "batch_size = 100 "
      ],
      "execution_count": null,
      "outputs": []
    },
    {
      "cell_type": "code",
      "metadata": {
        "id": "LD7fnDZSPnHE"
      },
      "source": [
        "mnist_train = dsets.MNIST(root='MNIST_data/', # 다운로드 경로 지정\n",
        "                          train=True, # True를 지정하면 훈련 데이터로 다운로드\n",
        "                          transform=transforms.ToTensor(), # 텐서로 변환\n",
        "                          download=True)\n",
        "\n",
        "mnist_test = dsets.MNIST(root='MNIST_data/', # 다운로드 경로 지정\n",
        "                         train=False, # False를 지정하면 테스트 데이터로 다운로드\n",
        "                         transform=transforms.ToTensor(), # 텐서로 변환\n",
        "                         download=True)"
      ],
      "execution_count": null,
      "outputs": []
    },
    {
      "cell_type": "code",
      "metadata": {
        "colab": {
          "base_uri": "https://localhost:8080/"
        },
        "id": "Yya0MS9GXt6K",
        "outputId": "41a1c0d0-e9ac-4f58-f4e6-ee3322c75a2f"
      },
      "source": [
        "# 훈련 및 테스트 데이터의 개수\n",
        "print(\"Number of training data : \", len(mnist_train))\n",
        "print(\"Number of test data : \", len(mnist_test))"
      ],
      "execution_count": null,
      "outputs": [
        {
          "output_type": "stream",
          "text": [
            "Number of training data :  60000\n",
            "Number of test data :  10000\n"
          ],
          "name": "stdout"
        }
      ]
    },
    {
      "cell_type": "code",
      "metadata": {
        "colab": {
          "base_uri": "https://localhost:8080/",
          "height": 340
        },
        "id": "PNOToackX5oz",
        "outputId": "01054e7a-ce98-4583-b005-82ad46bc35e0"
      },
      "source": [
        "import torchvision\n",
        "import matplotlib.pyplot as plt\n",
        "\n",
        "# 훈련 데이터 중 하나만 출력\n",
        "one_image, label = mnist_train[0]\n",
        "print(\"type of one image\", type(one_image))\n",
        "print(\"size of one image : \", one_image.shape)\n",
        "plt.imshow(one_image.squeeze().numpy(), cmap='gray')\n",
        "print(\"type of label : \", type(label))\n",
        "print(\"label : \", label)"
      ],
      "execution_count": null,
      "outputs": [
        {
          "output_type": "stream",
          "text": [
            "type of one image <class 'torch.Tensor'>\n",
            "size of one image :  torch.Size([1, 28, 28])\n",
            "type of label :  <class 'int'>\n",
            "label :  5\n"
          ],
          "name": "stdout"
        },
        {
          "output_type": "display_data",
          "data": {
            "image/png": "[encoded data removed]",
            "text/plain": [
              "<Figure size 432x288 with 1 Axes>"
            ]
          },
          "metadata": {
            "tags": [],
            "needs_background": "light"
          }
        }
      ]
    },
    {
      "cell_type": "code",
      "metadata": {
        "id": "oG8HGpd8P8P8"
      },
      "source": [
        "# 데이터를 불러올 때 사용, 데이터 로더를 사용하여 배치 크기 지정\n",
        "data_loader = torch.utils.data.DataLoader(dataset=mnist_train,\n",
        "                                          batch_size=batch_size,\n",
        "                                          shuffle=True,\n",
        "                                          drop_last=True)"
      ],
      "execution_count": null,
      "outputs": []
    },
    {
      "cell_type": "code",
      "metadata": {
        "id": "to7htmyrQBsZ"
      },
      "source": [
        "# 원본 이미지와 필터를 갖고, convolution 연산을 수행해 중요한 feature를 detect한 후, maxpooling이라는 압축 과정을 거쳐 또 한번 중요한 feature만을 남기는 과정\n",
        "class CNN(torch.nn.Module):\n",
        "\n",
        "    # 네트워크에서 사용할 모듈들을 초기화\n",
        "    def __init__(self):\n",
        "        # nn.module 상속\n",
        "        super(CNN, self).__init__()\n",
        "        \n",
        "        # kernal_size : 입력된 이미지에 대해 얼만큼의 시야를 갖는지를 결정\n",
        "        # stride : 이미지를 횡단할 때, kernal의 step size를 결정\n",
        "        # padding : convolution 연산을 수행할 샘플의 테두리를 어떻게 처리할지를 결정\n",
        "\n",
        "        # 합성곱(nn.Conv2d) + 활성화 함수(nn.ReLU) + 맥스풀링(nn.MaxPool2d)가 하나의 층\n",
        "        # 첫번째층\n",
        "        self.layer1 = torch.nn.Sequential(\n",
        "            # 1채널의 이미지를 입력받아서 32채널을 뽑아내는데, 커널 사이즈는 3x3\n",
        "            torch.nn.Conv2d(1, 32, kernel_size=3, stride=1, padding=1), \n",
        "            # 활성화 함수\n",
        "            torch.nn.ReLU(),\n",
        "            # 맥스풀링을 통해 2x2로 압축\n",
        "            torch.nn.MaxPool2d(kernel_size=2, stride=2))\n",
        "\n",
        "        # 두번째층\n",
        "        self.layer2 = torch.nn.Sequential(\n",
        "            torch.nn.Conv2d(32, 64, kernel_size=3, stride=1, padding=1),\n",
        "            torch.nn.ReLU(),\n",
        "            torch.nn.MaxPool2d(kernel_size=2, stride=2))\n",
        "\n",
        "        # 전결합층 7x7x64 inputs -> 10 outputs\n",
        "        self.fc = torch.nn.Linear(7 * 7 * 64, 10, bias=True)\n",
        "\n",
        "        # 전결합층 한정으로 가중치 초기화\n",
        "        torch.nn.init.xavier_uniform_(self.fc.weight)\n",
        "\n",
        "    #모델 네트워크 레이어 쌓기\n",
        "    def forward(self, x):\n",
        "        out = self.layer1(x)\n",
        "        out = self.layer2(out)\n",
        "        out = out.view(out.size(0), -1) # 첫번째 차원인 배치 차원은 그대로 두고, 나머지 펼치기   \n",
        "        out = self.fc(out)\n",
        "        return out"
      ],
      "execution_count": null,
      "outputs": []
    },
    {
      "cell_type": "code",
      "metadata": {
        "id": "5crAmUDKQFs4"
      },
      "source": [
        "# CNN 모델 정의\n",
        "model = CNN().to(device)"
      ],
      "execution_count": null,
      "outputs": []
    },
    {
      "cell_type": "code",
      "metadata": {
        "id": "tX9iNm9xQLl9"
      },
      "source": [
        "criterion = torch.nn.CrossEntropyLoss().to(device)    # 비용 함수에 소프트맥스 함수 포함\n",
        "optimizer = torch.optim.Adam(model.parameters(), lr=learning_rate) # 상황과 데이터에 따라 종류와 파라미터를 바꾸어 가며 실험해 보아야 하는 hyperparameter"
      ],
      "execution_count": null,
      "outputs": []
    },
    {
      "cell_type": "code",
      "metadata": {
        "colab": {
          "base_uri": "https://localhost:8080/"
        },
        "id": "c_mpQiqHQNwu",
        "outputId": "6303ebbe-f903-4d45-cd71-906f918ac60c"
      },
      "source": [
        "# 배치 크기가 100, 총 배치의 수는 600이므로 훈련 데이터는 총 60000개\n",
        "total_batch = len(data_loader)\n",
        "print('총 배치의 수 : {}'.format(total_batch))"
      ],
      "execution_count": null,
      "outputs": [
        {
          "output_type": "stream",
          "text": [
            "총 배치의 수 : 600\n"
          ],
          "name": "stdout"
        }
      ]
    },
    {
      "cell_type": "code",
      "metadata": {
        "colab": {
          "base_uri": "https://localhost:8080/"
        },
        "id": "CFjjenLOQPm2",
        "outputId": "4f53171e-14d9-4279-a1c7-11410aea0aaa"
      },
      "source": [
        "# 모델 훈련\n",
        "for epoch in range(training_epochs):\n",
        "    avg_cost = 0\n",
        "\n",
        "    for X, Y in data_loader: # 미니 배치 단위로 꺼내온다. X는 미니 배치, Y는 레이블\n",
        "        # image is already size of (28x28), no reshape\n",
        "        # label is not one-hot encoded\n",
        "        X = X.to(device)\n",
        "        Y = Y.to(device)\n",
        "\n",
        "        optimizer.zero_grad() #그래디언트를 0으로 초기화(backward()를 호출할 때마다 그래디언트를 누적하므로 해당 과정이 반드시 필요)\n",
        "        hypothesis = model(X)\n",
        "        cost = criterion(hypothesis, Y)\n",
        "        cost.backward() # 모델의 매개 변수에 대한 gradient를 계산\n",
        "        optimizer.step() # 매개 변수 갱신, 학습이 수행되는 한 step을 의미\n",
        "\n",
        "        avg_cost += cost / total_batch\n",
        "\n",
        "    print('[Epoch: {:>4}] cost = {:>.9}'.format(epoch + 1, avg_cost))"
      ],
      "execution_count": null,
      "outputs": [
        {
          "output_type": "stream",
          "text": [
            "/usr/local/lib/python3.7/dist-packages/torch/nn/functional.py:718: UserWarning: Named tensors and all their associated APIs are an experimental feature and subject to change. Please do not use them for anything important until they are released as stable. (Triggered internally at  /pytorch/c10/core/TensorImpl.h:1156.)\n",
            "  return torch.max_pool2d(input, kernel_size, stride, padding, dilation, ceil_mode)\n"
          ],
          "name": "stderr"
        },
        {
          "output_type": "stream",
          "text": [
            "[Epoch:    1] cost = 0.225630581\n",
            "[Epoch:    2] cost = 0.0629239455\n",
            "[Epoch:    3] cost = 0.0462388545\n",
            "[Epoch:    4] cost = 0.0373307504\n",
            "[Epoch:    5] cost = 0.0314979367\n",
            "[Epoch:    6] cost = 0.0259948764\n",
            "[Epoch:    7] cost = 0.0217639506\n",
            "[Epoch:    8] cost = 0.0184227545\n",
            "[Epoch:    9] cost = 0.016512271\n",
            "[Epoch:   10] cost = 0.0132639883\n",
            "[Epoch:   11] cost = 0.0101903267\n",
            "[Epoch:   12] cost = 0.00979960803\n",
            "[Epoch:   13] cost = 0.00848219264\n",
            "[Epoch:   14] cost = 0.00675378554\n",
            "[Epoch:   15] cost = 0.00651646592\n"
          ],
          "name": "stdout"
        }
      ]
    },
    {
      "cell_type": "code",
      "metadata": {
        "colab": {
          "base_uri": "https://localhost:8080/"
        },
        "id": "Yb-LHMr5Qquv",
        "outputId": "81677ea0-ad65-47c3-d79f-f1522f9d5705"
      },
      "source": [
        "# 학습을 진행하지 않을 것이므로 torch.no_grad()\n",
        "with torch.no_grad():\n",
        "    X_test = mnist_test.test_data.view(len(mnist_test), 1, 28, 28).float().to(device)\n",
        "    Y_test = mnist_test.test_labels.to(device)\n",
        "\n",
        "    # 정확도 측정\n",
        "    prediction = model(X_test)\n",
        "    correct_prediction = torch.argmax(prediction, 1) == Y_test\n",
        "    accuracy = correct_prediction.float().mean()\n",
        "    print('Accuracy:', accuracy.item())"
      ],
      "execution_count": null,
      "outputs": [
        {
          "output_type": "stream",
          "text": [
            "Accuracy: 0.988099992275238\n"
          ],
          "name": "stdout"
        },
        {
          "output_type": "stream",
          "text": [
            "/usr/local/lib/python3.7/dist-packages/torchvision/datasets/mnist.py:67: UserWarning: test_data has been renamed data\n",
            "  warnings.warn(\"test_data has been renamed data\")\n",
            "/usr/local/lib/python3.7/dist-packages/torchvision/datasets/mnist.py:57: UserWarning: test_labels has been renamed targets\n",
            "  warnings.warn(\"test_labels has been renamed targets\")\n"
          ],
          "name": "stderr"
        }
      ]
    }
  ]
}