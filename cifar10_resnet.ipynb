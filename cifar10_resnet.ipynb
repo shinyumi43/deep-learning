{
  "nbformat": 4,
  "nbformat_minor": 0,
  "metadata": {
    "colab": {
      "name": "cifar10-resnet.ipynb",
      "provenance": [],
      "authorship_tag": "ABX9TyM/ryE3Q+xfcQmk/PAVLS9m",
      "include_colab_link": true
    },
    "kernelspec": {
      "name": "python3",
      "display_name": "Python 3"
    },
    "language_info": {
      "name": "python"
    },
    "accelerator": "GPU",
    "widgets": {
      "application/vnd.jupyter.widget-state+json": {
        "42d391307ef44dd5add11d2316bb40ed": {
          "model_module": "@jupyter-widgets/controls",
          "model_name": "HBoxModel",
          "state": {
            "_view_name": "HBoxView",
            "_dom_classes": [],
            "_model_name": "HBoxModel",
            "_view_module": "@jupyter-widgets/controls",
            "_model_module_version": "1.5.0",
            "_view_count": null,
            "_view_module_version": "1.5.0",
            "box_style": "",
            "layout": "IPY_MODEL_1a29970fc165454d80342584b2415667",
            "_model_module": "@jupyter-widgets/controls",
            "children": [
              "IPY_MODEL_20086014e7ca40ce84220f504c884072",
              "IPY_MODEL_68a7798f5aa04511b9bef4fc2f8466b2"
            ]
          },
          "model_module_version": "1.5.0"
        },
        "1a29970fc165454d80342584b2415667": {
          "model_module": "@jupyter-widgets/base",
          "model_name": "LayoutModel",
          "state": {
            "_view_name": "LayoutView",
            "grid_template_rows": null,
            "right": null,
            "justify_content": null,
            "_view_module": "@jupyter-widgets/base",
            "overflow": null,
            "_model_module_version": "1.2.0",
            "_view_count": null,
            "flex_flow": null,
            "width": null,
            "min_width": null,
            "border": null,
            "align_items": null,
            "bottom": null,
            "_model_module": "@jupyter-widgets/base",
            "top": null,
            "grid_column": null,
            "overflow_y": null,
            "overflow_x": null,
            "grid_auto_flow": null,
            "grid_area": null,
            "grid_template_columns": null,
            "flex": null,
            "_model_name": "LayoutModel",
            "justify_items": null,
            "grid_row": null,
            "max_height": null,
            "align_content": null,
            "visibility": null,
            "align_self": null,
            "height": null,
            "min_height": null,
            "padding": null,
            "grid_auto_rows": null,
            "grid_gap": null,
            "max_width": null,
            "order": null,
            "_view_module_version": "1.2.0",
            "grid_template_areas": null,
            "object_position": null,
            "object_fit": null,
            "grid_auto_columns": null,
            "margin": null,
            "display": null,
            "left": null
          },
          "model_module_version": "1.2.0"
        },
        "20086014e7ca40ce84220f504c884072": {
          "model_module": "@jupyter-widgets/controls",
          "model_name": "FloatProgressModel",
          "state": {
            "_view_name": "ProgressView",
            "style": "IPY_MODEL_973ed427ff2e45f59cbbf1d04d0efad1",
            "_dom_classes": [],
            "description": "",
            "_model_name": "FloatProgressModel",
            "bar_style": "success",
            "max": 170498071,
            "_view_module": "@jupyter-widgets/controls",
            "_model_module_version": "1.5.0",
            "value": 170498071,
            "_view_count": null,
            "_view_module_version": "1.5.0",
            "orientation": "horizontal",
            "min": 0,
            "description_tooltip": null,
            "_model_module": "@jupyter-widgets/controls",
            "layout": "IPY_MODEL_0a0117056cb9496c94d41ef962f8c9bb"
          },
          "model_module_version": "1.5.0"
        },
        "68a7798f5aa04511b9bef4fc2f8466b2": {
          "model_module": "@jupyter-widgets/controls",
          "model_name": "HTMLModel",
          "state": {
            "_view_name": "HTMLView",
            "style": "IPY_MODEL_60d912c30d3d447bafdf132a16ca0703",
            "_dom_classes": [],
            "description": "",
            "_model_name": "HTMLModel",
            "placeholder": "​",
            "_view_module": "@jupyter-widgets/controls",
            "_model_module_version": "1.5.0",
            "value": " 170499072/? [15:59&lt;00:00, 177603.41it/s]",
            "_view_count": null,
            "_view_module_version": "1.5.0",
            "description_tooltip": null,
            "_model_module": "@jupyter-widgets/controls",
            "layout": "IPY_MODEL_8470c3b89486428aa1d0c6bdbe8c3124"
          },
          "model_module_version": "1.5.0"
        },
        "973ed427ff2e45f59cbbf1d04d0efad1": {
          "model_module": "@jupyter-widgets/controls",
          "model_name": "ProgressStyleModel",
          "state": {
            "_view_name": "StyleView",
            "_model_name": "ProgressStyleModel",
            "description_width": "initial",
            "_view_module": "@jupyter-widgets/base",
            "_model_module_version": "1.5.0",
            "_view_count": null,
            "_view_module_version": "1.2.0",
            "bar_color": null,
            "_model_module": "@jupyter-widgets/controls"
          },
          "model_module_version": "1.5.0"
        },
        "0a0117056cb9496c94d41ef962f8c9bb": {
          "model_module": "@jupyter-widgets/base",
          "model_name": "LayoutModel",
          "state": {
            "_view_name": "LayoutView",
            "grid_template_rows": null,
            "right": null,
            "justify_content": null,
            "_view_module": "@jupyter-widgets/base",
            "overflow": null,
            "_model_module_version": "1.2.0",
            "_view_count": null,
            "flex_flow": null,
            "width": null,
            "min_width": null,
            "border": null,
            "align_items": null,
            "bottom": null,
            "_model_module": "@jupyter-widgets/base",
            "top": null,
            "grid_column": null,
            "overflow_y": null,
            "overflow_x": null,
            "grid_auto_flow": null,
            "grid_area": null,
            "grid_template_columns": null,
            "flex": null,
            "_model_name": "LayoutModel",
            "justify_items": null,
            "grid_row": null,
            "max_height": null,
            "align_content": null,
            "visibility": null,
            "align_self": null,
            "height": null,
            "min_height": null,
            "padding": null,
            "grid_auto_rows": null,
            "grid_gap": null,
            "max_width": null,
            "order": null,
            "_view_module_version": "1.2.0",
            "grid_template_areas": null,
            "object_position": null,
            "object_fit": null,
            "grid_auto_columns": null,
            "margin": null,
            "display": null,
            "left": null
          },
          "model_module_version": "1.2.0"
        },
        "60d912c30d3d447bafdf132a16ca0703": {
          "model_module": "@jupyter-widgets/controls",
          "model_name": "DescriptionStyleModel",
          "state": {
            "_view_name": "StyleView",
            "_model_name": "DescriptionStyleModel",
            "description_width": "",
            "_view_module": "@jupyter-widgets/base",
            "_model_module_version": "1.5.0",
            "_view_count": null,
            "_view_module_version": "1.2.0",
            "_model_module": "@jupyter-widgets/controls"
          },
          "model_module_version": "1.5.0"
        },
        "8470c3b89486428aa1d0c6bdbe8c3124": {
          "model_module": "@jupyter-widgets/base",
          "model_name": "LayoutModel",
          "state": {
            "_view_name": "LayoutView",
            "grid_template_rows": null,
            "right": null,
            "justify_content": null,
            "_view_module": "@jupyter-widgets/base",
            "overflow": null,
            "_model_module_version": "1.2.0",
            "_view_count": null,
            "flex_flow": null,
            "width": null,
            "min_width": null,
            "border": null,
            "align_items": null,
            "bottom": null,
            "_model_module": "@jupyter-widgets/base",
            "top": null,
            "grid_column": null,
            "overflow_y": null,
            "overflow_x": null,
            "grid_auto_flow": null,
            "grid_area": null,
            "grid_template_columns": null,
            "flex": null,
            "_model_name": "LayoutModel",
            "justify_items": null,
            "grid_row": null,
            "max_height": null,
            "align_content": null,
            "visibility": null,
            "align_self": null,
            "height": null,
            "min_height": null,
            "padding": null,
            "grid_auto_rows": null,
            "grid_gap": null,
            "max_width": null,
            "order": null,
            "_view_module_version": "1.2.0",
            "grid_template_areas": null,
            "object_position": null,
            "object_fit": null,
            "grid_auto_columns": null,
            "margin": null,
            "display": null,
            "left": null
          },
          "model_module_version": "1.2.0"
        }
      }
    }
  },
  "cells": [
    {
      "cell_type": "markdown",
      "metadata": {
        "id": "view-in-github",
        "colab_type": "text"
      },
      "source": [
        "<a href=\"https://colab.research.google.com/github/shinyumi43/deep-learning/blob/main/cifar10_resnet.ipynb\" target=\"_parent\"><img src=\"https://colab.research.google.com/assets/colab-badge.svg\" alt=\"Open In Colab\"/></a>"
      ]
    },
    {
      "cell_type": "code",
      "metadata": {
        "id": "X70RBCJK6F3o"
      },
      "source": [
        "import torch\n",
        "import torch.nn as nn\n",
        "import torch.nn.functional as F\n",
        "import torch.backends.cudnn as cudnn\n",
        "import torch.optim as optim\n",
        "import os\n",
        "import matplotlib.pyplot as plt\n",
        "\n",
        "# 배치 정규화를 사용하여 학습 속도 및 정확도 향상에 기여 가능\n",
        "class BasicBlock(nn.Module):\n",
        "    def __init__(self, in_planes, planes, with_BN, stride=1):\n",
        "        super(BasicBlock, self).__init__()\n",
        "        self.with_BN = with_BN\n",
        "\n",
        "        # 3x3 필터를 사용 (너비와 높이를 줄일 때는 stride 값 조절)\n",
        "        self.conv1 = nn.Conv2d(in_planes, planes, kernel_size=3, stride=stride, padding=1, bias=False)\n",
        "        if with_BN: # 배치 정규화(batch normalization)를 사용하는 경우\n",
        "            self.bn1 = nn.BatchNorm2d(planes) \n",
        "\n",
        "        # 3x3 필터를 사용 (패딩을 1만큼 주기 때문에 너비와 높이가 동일)\n",
        "        self.conv2 = nn.Conv2d(planes, planes, kernel_size=3, stride=1, padding=1, bias=False)\n",
        "        if with_BN: # 배치 정규화(batch normalization)를 사용하는 경우\n",
        "            self.bn2 = nn.BatchNorm2d(planes)\n",
        "\n",
        "        self.shortcut = nn.Sequential() # 단순한 identity mapping인 경우\n",
        "        if stride != 1: # stride가 1이 아니라면, Identity mapping이 아닌 경우\n",
        "            modules = [nn.Conv2d(in_planes, planes, kernel_size=1, stride=stride, bias=False)]\n",
        "            if with_BN:\n",
        "                modules.append(nn.BatchNorm2d(planes))\n",
        "            self.shortcut = nn.Sequential(*modules)\n",
        "\n",
        "    def forward(self, x):\n",
        "        if self.with_BN: # 배치 정규화(batch normalization)를 사용하는 경우\n",
        "            out = F.relu(self.bn1(self.conv1(x)))\n",
        "            out = self.bn2(self.conv2(out))\n",
        "        else:\n",
        "            out = F.relu(self.conv1(x))\n",
        "            out = self.conv2(out)\n",
        "        out += self.shortcut(x) # (핵심) skip connection\n",
        "        out = F.relu(out)\n",
        "        return out\n",
        "\n",
        "\n",
        "# ResNet 클래스 정의\n",
        "class ResNet(nn.Module):\n",
        "    def __init__(self, block, num_blocks, with_BN, num_classes=10):\n",
        "        super(ResNet, self).__init__()\n",
        "        self.in_planes = 64\n",
        "        self.with_BN = with_BN\n",
        "\n",
        "        # 64개의 3x3 필터(filter)를 사용\n",
        "        self.conv1 = nn.Conv2d(3, 64, kernel_size=3, stride=1, padding=1, bias=False)\n",
        "        if with_BN: # 배치 정규화(batch normalization)를 사용하는 경우\n",
        "            self.bn1 = nn.BatchNorm2d(64)\n",
        "        self.layer1 = self._make_layer(block, 64, with_BN, num_blocks[0], stride=1)\n",
        "        self.layer2 = self._make_layer(block, 128, with_BN, num_blocks[1], stride=2)\n",
        "        self.layer3 = self._make_layer(block, 256, with_BN, num_blocks[2], stride=2)\n",
        "        self.layer4 = self._make_layer(block, 512, with_BN, num_blocks[3], stride=2)\n",
        "        self.linear = nn.Linear(512, num_classes)\n",
        "\n",
        "    def _make_layer(self, block, planes, with_BN, num_blocks, stride):\n",
        "        strides = [stride] + [1] * (num_blocks - 1)\n",
        "        layers = []\n",
        "        for stride in strides:\n",
        "            layers.append(block(self.in_planes, planes, with_BN, stride))\n",
        "            self.in_planes = planes # 다음 레이어를 위해 채널 수 변경\n",
        "        return nn.Sequential(*layers)\n",
        "\n",
        "    def forward(self, x):\n",
        "        if self.with_BN: # 배치 정규화(batch normalization)를 사용하는 경우\n",
        "            out = F.relu(self.bn1(self.conv1(x)))\n",
        "        else:\n",
        "            out = F.relu(self.conv1(x))\n",
        "        out = self.layer1(out)\n",
        "        out = self.layer2(out)\n",
        "        out = self.layer3(out)\n",
        "        out = self.layer4(out)\n",
        "        out = F.avg_pool2d(out, 4)\n",
        "        out = out.view(out.size(0), -1)\n",
        "        out = self.linear(out)\n",
        "        return out\n",
        "\n",
        "\n",
        "# ResNet18 함수 정의\n",
        "def ResNet18(with_BN):\n",
        "    return ResNet(BasicBlock, [2, 2, 2, 2], with_BN)"
      ],
      "execution_count": null,
      "outputs": []
    },
    {
      "cell_type": "code",
      "metadata": {
        "colab": {
          "base_uri": "https://localhost:8080/",
          "height": 181,
          "referenced_widgets": [
            "42d391307ef44dd5add11d2316bb40ed",
            "1a29970fc165454d80342584b2415667",
            "20086014e7ca40ce84220f504c884072",
            "68a7798f5aa04511b9bef4fc2f8466b2",
            "973ed427ff2e45f59cbbf1d04d0efad1",
            "0a0117056cb9496c94d41ef962f8c9bb",
            "60d912c30d3d447bafdf132a16ca0703",
            "8470c3b89486428aa1d0c6bdbe8c3124"
          ]
        },
        "id": "8cQg_1ll7CAS",
        "outputId": "09d55655-8d7b-4a2d-dbc1-6a6e70f87b50"
      },
      "source": [
        "import torchvision\n",
        "import torchvision.transforms as transforms\n",
        "\n",
        "transform_train = transforms.Compose([\n",
        "    transforms.RandomCrop(32, padding=4),\n",
        "    transforms.RandomHorizontalFlip(),\n",
        "    transforms.ToTensor(),\n",
        "])\n",
        "\n",
        "transform_test = transforms.Compose([\n",
        "    transforms.ToTensor(),\n",
        "])\n",
        "\n",
        "train_dataset = torchvision.datasets.CIFAR10(root='./data', train=True, download=True, transform=transform_train)\n",
        "test_dataset = torchvision.datasets.CIFAR10(root='./data', train=False, download=True, transform=transform_test)\n",
        "\n",
        "train_loader = torch.utils.data.DataLoader(train_dataset, batch_size=128, shuffle=True, num_workers=4)\n",
        "test_loader = torch.utils.data.DataLoader(test_dataset, batch_size=100, shuffle=False, num_workers=4)"
      ],
      "execution_count": null,
      "outputs": [
        {
          "output_type": "stream",
          "text": [
            "Downloading https://www.cs.toronto.edu/~kriz/cifar-10-python.tar.gz to ./data/cifar-10-python.tar.gz\n"
          ],
          "name": "stdout"
        },
        {
          "output_type": "display_data",
          "data": {
            "application/vnd.jupyter.widget-view+json": {
              "model_id": "42d391307ef44dd5add11d2316bb40ed",
              "version_minor": 0,
              "version_major": 2
            },
            "text/plain": [
              "HBox(children=(FloatProgress(value=0.0, max=170498071.0), HTML(value='')))"
            ]
          },
          "metadata": {
            "tags": []
          }
        },
        {
          "output_type": "stream",
          "text": [
            "\n",
            "Extracting ./data/cifar-10-python.tar.gz to ./data\n",
            "Files already downloaded and verified\n"
          ],
          "name": "stdout"
        },
        {
          "output_type": "stream",
          "text": [
            "/usr/local/lib/python3.7/dist-packages/torch/utils/data/dataloader.py:481: UserWarning: This DataLoader will create 4 worker processes in total. Our suggested max number of worker in current system is 2, which is smaller than what this DataLoader is going to create. Please be aware that excessive worker creation might get DataLoader running slow or even freeze, lower the worker number to avoid potential slowness/freeze if necessary.\n",
            "  cpuset_checked))\n"
          ],
          "name": "stderr"
        }
      ]
    },
    {
      "cell_type": "code",
      "metadata": {
        "id": "nUzd38G87MMH"
      },
      "source": [
        "criterion = nn.CrossEntropyLoss() # 분류(classification) 문제\n",
        "\n",
        "\n",
        "def train(net, optimizer, epoch, step):\n",
        "    net.train()\n",
        "    correct = 0 # 정답을 맞힌 이미지 개수\n",
        "    total = 0 # 전체 이미지 개수\n",
        "    steps = [] # 학습 스텝(step)\n",
        "    losses = [] # 각 스텝에서의 손실(loss)\n",
        "\n",
        "    for _, (inputs, targets) in enumerate(train_loader):\n",
        "        inputs, targets = inputs.cuda(), targets.cuda()\n",
        "\n",
        "        optimizer.zero_grad()\n",
        "        outputs = net(inputs)\n",
        "        loss = criterion(outputs, targets)\n",
        "        loss.backward()\n",
        "        optimizer.step()\n",
        "        \n",
        "        _, predicted = outputs.max(1)\n",
        "        correct += predicted.eq(targets).sum().item()\n",
        "        total += targets.size(0)\n",
        "\n",
        "        steps.append(step)\n",
        "        losses.append(loss.item())\n",
        "        step += 1\n",
        "\n",
        "    return correct / total, steps, losses\n",
        "\n",
        "\n",
        "def test(net, optimizer, epoch):\n",
        "    net.eval()\n",
        "    correct = 0 # 정답을 맞힌 이미지 개수\n",
        "    total = 0 # 전체 이미지 개수\n",
        "    loss = 0 # 손실(loss)\n",
        "\n",
        "    for batch_idx, (inputs, targets) in enumerate(test_loader):\n",
        "        inputs, targets = inputs.cuda(), targets.cuda()\n",
        "\n",
        "        outputs = net(inputs)\n",
        "        loss += criterion(outputs, targets).item()\n",
        "\n",
        "        _, predicted = outputs.max(1)\n",
        "        correct += predicted.eq(targets).sum().item()\n",
        "        total += targets.size(0)\n",
        "\n",
        "    return correct / total, loss"
      ],
      "execution_count": null,
      "outputs": []
    },
    {
      "cell_type": "code",
      "metadata": {
        "colab": {
          "base_uri": "https://localhost:8080/"
        },
        "id": "7QkN1WpN7Yni",
        "outputId": "de293cb8-78e1-46cd-d3d9-43192d3186f4"
      },
      "source": [
        "# 배치 정규화를 적용하지 않은 모델의 성능 평가\n",
        "print('모델 파라미터를 초기화합니다.')\n",
        "net = ResNet18(with_BN=False).cuda()\n",
        "learning_rate = 0.01\n",
        "optimizer = optim.SGD(net.parameters(), lr=learning_rate, momentum=0.9, weight_decay=0.0002)\n",
        "\n",
        "total_params = sum(p.numel() for p in net.parameters() if p.requires_grad)\n",
        "print('학습 가능한 총 파라미터 수:', total_params)"
      ],
      "execution_count": null,
      "outputs": [
        {
          "output_type": "stream",
          "text": [
            "모델 파라미터를 초기화합니다.\n",
            "학습 가능한 총 파라미터 수: 11164362\n"
          ],
          "name": "stdout"
        }
      ]
    },
    {
      "cell_type": "code",
      "metadata": {
        "colab": {
          "base_uri": "https://localhost:8080/"
        },
        "id": "zt-SZfbN7hBC",
        "outputId": "83d08b28-6299-49a3-d15f-1f2ea7b2e4c3"
      },
      "source": [
        "# 배치 정규화를 적용하지 않은 모델의 학습 진행\n",
        "without_BN_train_accuracies = []\n",
        "without_BN_steps = []\n",
        "without_BN_train_losses = []\n",
        "without_BN_test_accuracies = []\n",
        "without_BN_test_losses = []\n",
        "\n",
        "epochs = 20\n",
        "\n",
        "for epoch in range(0, epochs):\n",
        "    print(f'[ Epoch: {epoch}/{epochs} ]')\n",
        "    train_accuracy, steps, train_losses = train(net, optimizer, epoch, len(without_BN_steps))\n",
        "    without_BN_train_accuracies.append(train_accuracy)\n",
        "    without_BN_steps.extend(steps)\n",
        "    without_BN_train_losses.extend(train_losses)\n",
        "    print(f'Train accuracy = {train_accuracy * 100:.2f} / Train loss = {sum(train_losses)}')\n",
        "\n",
        "    test_accuracy, test_loss = test(net, optimizer, epoch)\n",
        "    without_BN_test_accuracies.append(test_accuracy)\n",
        "    without_BN_test_losses.append(test_loss)\n",
        "    print(f'Test accuracy = {test_accuracy * 100:.2f} / Test loss = {test_loss}')"
      ],
      "execution_count": null,
      "outputs": [
        {
          "output_type": "stream",
          "text": [
            "[ Epoch: 0/20 ]\n"
          ],
          "name": "stdout"
        },
        {
          "output_type": "stream",
          "text": [
            "/usr/local/lib/python3.7/dist-packages/torch/utils/data/dataloader.py:481: UserWarning: This DataLoader will create 4 worker processes in total. Our suggested max number of worker in current system is 2, which is smaller than what this DataLoader is going to create. Please be aware that excessive worker creation might get DataLoader running slow or even freeze, lower the worker number to avoid potential slowness/freeze if necessary.\n",
            "  cpuset_checked))\n"
          ],
          "name": "stderr"
        },
        {
          "output_type": "stream",
          "text": [
            "Train accuracy = 14.51 / Train loss = 869.6676378250122\n",
            "Test accuracy = 22.84 / Test loss = 209.2683161497116\n",
            "[ Epoch: 1/20 ]\n",
            "Train accuracy = 26.38 / Train loss = 776.2349678277969\n",
            "Test accuracy = 33.11 / Test loss = 181.89975690841675\n",
            "[ Epoch: 2/20 ]\n",
            "Train accuracy = 33.49 / Train loss = 706.3441342115402\n",
            "Test accuracy = 42.02 / Test loss = 161.3595894575119\n",
            "[ Epoch: 3/20 ]\n",
            "Train accuracy = 39.43 / Train loss = 649.3191469907761\n",
            "Test accuracy = 42.29 / Test loss = 172.2374382019043\n",
            "[ Epoch: 4/20 ]\n",
            "Train accuracy = 43.60 / Train loss = 604.7677371501923\n",
            "Test accuracy = 45.52 / Test loss = 152.38730776309967\n",
            "[ Epoch: 5/20 ]\n",
            "Train accuracy = 47.16 / Train loss = 571.6314988136292\n",
            "Test accuracy = 47.43 / Test loss = 144.02159798145294\n",
            "[ Epoch: 6/20 ]\n",
            "Train accuracy = 50.32 / Train loss = 543.085955619812\n",
            "Test accuracy = 51.43 / Test loss = 135.34159314632416\n",
            "[ Epoch: 7/20 ]\n",
            "Train accuracy = 53.20 / Train loss = 511.34741723537445\n",
            "Test accuracy = 54.46 / Test loss = 128.14318549633026\n",
            "[ Epoch: 8/20 ]\n",
            "Train accuracy = 56.04 / Train loss = 485.27471232414246\n",
            "Test accuracy = 59.68 / Test loss = 112.44824415445328\n",
            "[ Epoch: 9/20 ]\n",
            "Train accuracy = 59.62 / Train loss = 446.732433617115\n",
            "Test accuracy = 61.31 / Test loss = 108.20286387205124\n",
            "[ Epoch: 10/20 ]\n",
            "Train accuracy = 62.06 / Train loss = 420.0214268565178\n",
            "Test accuracy = 64.37 / Test loss = 103.10026788711548\n",
            "[ Epoch: 11/20 ]\n",
            "Train accuracy = 64.59 / Train loss = 395.09189599752426\n",
            "Test accuracy = 66.53 / Test loss = 95.29337340593338\n",
            "[ Epoch: 12/20 ]\n",
            "Train accuracy = 66.84 / Train loss = 368.8311017155647\n",
            "Test accuracy = 69.36 / Test loss = 88.30695861577988\n",
            "[ Epoch: 13/20 ]\n",
            "Train accuracy = 69.25 / Train loss = 344.79769241809845\n",
            "Test accuracy = 69.75 / Test loss = 88.0611139535904\n",
            "[ Epoch: 14/20 ]\n",
            "Train accuracy = 71.20 / Train loss = 325.2261909842491\n",
            "Test accuracy = 71.20 / Test loss = 84.22624230384827\n",
            "[ Epoch: 15/20 ]\n",
            "Train accuracy = 72.44 / Train loss = 307.98049807548523\n",
            "Test accuracy = 73.12 / Test loss = 79.324762403965\n",
            "[ Epoch: 16/20 ]\n",
            "Train accuracy = 74.04 / Train loss = 291.4241014122963\n",
            "Test accuracy = 73.52 / Test loss = 78.34269589185715\n",
            "[ Epoch: 17/20 ]\n",
            "Train accuracy = 75.48 / Train loss = 275.3053421676159\n",
            "Test accuracy = 72.89 / Test loss = 77.80122399330139\n",
            "[ Epoch: 18/20 ]\n",
            "Train accuracy = 76.45 / Train loss = 264.1549913287163\n",
            "Test accuracy = 75.02 / Test loss = 73.20569124817848\n",
            "[ Epoch: 19/20 ]\n",
            "Train accuracy = 77.68 / Train loss = 251.7274770140648\n",
            "Test accuracy = 77.06 / Test loss = 66.66086360812187\n"
          ],
          "name": "stdout"
        }
      ]
    },
    {
      "cell_type": "code",
      "metadata": {
        "colab": {
          "base_uri": "https://localhost:8080/",
          "height": 295
        },
        "id": "Qt0mvhP081TS",
        "outputId": "fcdb9367-1470-4de6-94e3-ea2fff137a26"
      },
      "source": [
        "# 학습 과정에서의 스텝(step)에 따른 손실(loss) 값을 시각화\n",
        "plt.plot(without_BN_steps, without_BN_train_losses)\n",
        "plt.title('Train Loss')\n",
        "plt.xlabel('Step')\n",
        "plt.ylabel('Loss')\n",
        "plt.show()"
      ],
      "execution_count": null,
      "outputs": [
        {
          "output_type": "display_data",
          "data": {
            "image/png": "[encoded data removed]",
            "text/plain": [
              "<Figure size 432x288 with 1 Axes>"
            ]
          },
          "metadata": {
            "tags": [],
            "needs_background": "light"
          }
        }
      ]
    },
    {
      "cell_type": "code",
      "metadata": {
        "id": "z67TiGzq703L",
        "colab": {
          "base_uri": "https://localhost:8080/",
          "height": 573
        },
        "outputId": "370ca4f5-76b2-46be-9d3c-b7659301d7a7"
      },
      "source": [
        "# 테스트 정확도(accuracy) 및 손실(loss) 값을 시각화\n",
        "plt.plot([i for i in range(len(without_BN_test_accuracies))], without_BN_test_accuracies)\n",
        "plt.title('Test Accuracy')\n",
        "plt.xlabel('Epoch')\n",
        "plt.ylabel('Accuracy')\n",
        "plt.show()\n",
        "\n",
        "plt.plot([i for i in range(len(without_BN_test_losses))], without_BN_test_losses)\n",
        "plt.title('Test Loss')\n",
        "plt.xlabel('Epoch')\n",
        "plt.ylabel('Loss')\n",
        "plt.show()"
      ],
      "execution_count": null,
      "outputs": [
        {
          "output_type": "display_data",
          "data": {
            "image/png": "[encoded data removed]",
            "text/plain": [
              "<Figure size 432x288 with 1 Axes>"
            ]
          },
          "metadata": {
            "tags": [],
            "needs_background": "light"
          }
        },
        {
          "output_type": "display_data",
          "data": {
            "image/png": "[encoded data removed]",
            "text/plain": [
              "<Figure size 432x288 with 1 Axes>"
            ]
          },
          "metadata": {
            "tags": [],
            "needs_background": "light"
          }
        }
      ]
    },
    {
      "cell_type": "code",
      "metadata": {
        "id": "nFDxR3gd79zf",
        "colab": {
          "base_uri": "https://localhost:8080/"
        },
        "outputId": "337a9a05-420e-4758-8619-4e7a81c3da7a"
      },
      "source": [
        "# 배치 정규화를 적용한 모델의 성능 평가\n",
        "print('모델 파라미터를 초기화합니다.')\n",
        "net = ResNet18(with_BN=True).cuda()\n",
        "learning_rate = 0.01\n",
        "optimizer = optim.SGD(net.parameters(), lr=learning_rate, momentum=0.9, weight_decay=0.0002)\n",
        "\n",
        "total_params = sum(p.numel() for p in net.parameters() if p.requires_grad)\n",
        "print('학습 가능한 총 파라미터 수:', total_params)"
      ],
      "execution_count": null,
      "outputs": [
        {
          "output_type": "stream",
          "text": [
            "모델 파라미터를 초기화합니다.\n",
            "학습 가능한 총 파라미터 수: 11173962\n"
          ],
          "name": "stdout"
        }
      ]
    },
    {
      "cell_type": "code",
      "metadata": {
        "id": "CGHKDcJG7_wB",
        "colab": {
          "base_uri": "https://localhost:8080/"
        },
        "outputId": "c01eeee7-3fe0-4b41-9298-7a47c0932d28"
      },
      "source": [
        "# 배치 정규화를 적용한 모델의 학습 진행\n",
        "with_BN_train_accuracies = []\n",
        "with_BN_steps = []\n",
        "with_BN_train_losses = []\n",
        "with_BN_test_accuracies = []\n",
        "with_BN_test_losses = []\n",
        "\n",
        "epochs = 20\n",
        "\n",
        "for epoch in range(0, epochs):\n",
        "    print(f'[ Epoch: {epoch}/{epochs} ]')\n",
        "    train_accuracy, steps, train_losses = train(net, optimizer, epoch, len(with_BN_steps))\n",
        "    with_BN_train_accuracies.append(train_accuracy)\n",
        "    with_BN_steps.extend(steps)\n",
        "    with_BN_train_losses.extend(train_losses)\n",
        "    print(f'Train accuracy = {train_accuracy * 100:.2f} / Train loss = {sum(train_losses)}')\n",
        "\n",
        "    test_accuracy, test_loss = test(net, optimizer, epoch)\n",
        "    with_BN_test_accuracies.append(test_accuracy)\n",
        "    with_BN_test_losses.append(test_loss)\n",
        "    print(f'Test accuracy = {test_accuracy * 100:.2f} / Test loss = {test_loss}')"
      ],
      "execution_count": null,
      "outputs": [
        {
          "output_type": "stream",
          "text": [
            "[ Epoch: 0/20 ]\n"
          ],
          "name": "stdout"
        },
        {
          "output_type": "stream",
          "text": [
            "/usr/local/lib/python3.7/dist-packages/torch/utils/data/dataloader.py:481: UserWarning: This DataLoader will create 4 worker processes in total. Our suggested max number of worker in current system is 2, which is smaller than what this DataLoader is going to create. Please be aware that excessive worker creation might get DataLoader running slow or even freeze, lower the worker number to avoid potential slowness/freeze if necessary.\n",
            "  cpuset_checked))\n"
          ],
          "name": "stderr"
        },
        {
          "output_type": "stream",
          "text": [
            "Train accuracy = 46.85 / Train loss = 570.6548797488213\n",
            "Test accuracy = 39.03 / Test loss = 200.8996330499649\n",
            "[ Epoch: 1/20 ]\n",
            "Train accuracy = 67.09 / Train loss = 362.0836772322655\n",
            "Test accuracy = 70.95 / Test loss = 85.07034677267075\n",
            "[ Epoch: 2/20 ]\n",
            "Train accuracy = 74.62 / Train loss = 281.6587628722191\n",
            "Test accuracy = 75.63 / Test loss = 73.47361281514168\n",
            "[ Epoch: 3/20 ]\n",
            "Train accuracy = 78.87 / Train loss = 236.18779051303864\n",
            "Test accuracy = 70.59 / Test loss = 96.60477298498154\n",
            "[ Epoch: 4/20 ]\n",
            "Train accuracy = 81.82 / Train loss = 205.5984617471695\n",
            "Test accuracy = 80.46 / Test loss = 57.32708975672722\n",
            "[ Epoch: 5/20 ]\n",
            "Train accuracy = 83.88 / Train loss = 184.50615027546883\n",
            "Test accuracy = 82.41 / Test loss = 52.98707504570484\n",
            "[ Epoch: 6/20 ]\n",
            "Train accuracy = 85.29 / Train loss = 166.26244361698627\n",
            "Test accuracy = 81.53 / Test loss = 56.29847227036953\n",
            "[ Epoch: 7/20 ]\n",
            "Train accuracy = 86.49 / Train loss = 152.2293811738491\n",
            "Test accuracy = 84.16 / Test loss = 47.713344275951385\n",
            "[ Epoch: 8/20 ]\n",
            "Train accuracy = 87.41 / Train loss = 140.16933146119118\n",
            "Test accuracy = 78.97 / Test loss = 62.55881825089455\n",
            "[ Epoch: 9/20 ]\n",
            "Train accuracy = 88.55 / Train loss = 129.5222433358431\n",
            "Test accuracy = 86.24 / Test loss = 40.71962879598141\n",
            "[ Epoch: 10/20 ]\n",
            "Train accuracy = 89.41 / Train loss = 119.68775063753128\n",
            "Test accuracy = 86.16 / Test loss = 44.77439919114113\n",
            "[ Epoch: 11/20 ]\n",
            "Train accuracy = 89.86 / Train loss = 112.4850027859211\n",
            "Test accuracy = 84.56 / Test loss = 46.58254250884056\n",
            "[ Epoch: 12/20 ]\n",
            "Train accuracy = 90.72 / Train loss = 105.78011326491833\n",
            "Test accuracy = 85.51 / Test loss = 44.24548541009426\n",
            "[ Epoch: 13/20 ]\n",
            "Train accuracy = 91.33 / Train loss = 98.01745700836182\n",
            "Test accuracy = 86.60 / Test loss = 42.48823396861553\n",
            "[ Epoch: 14/20 ]\n",
            "Train accuracy = 91.79 / Train loss = 93.33491706848145\n",
            "Test accuracy = 87.03 / Test loss = 41.72774112224579\n",
            "[ Epoch: 15/20 ]\n",
            "Train accuracy = 92.12 / Train loss = 86.49575694650412\n",
            "Test accuracy = 86.09 / Test loss = 44.01287642121315\n",
            "[ Epoch: 16/20 ]\n",
            "Train accuracy = 92.50 / Train loss = 83.25382225960493\n",
            "Test accuracy = 86.98 / Test loss = 43.02108000218868\n",
            "[ Epoch: 17/20 ]\n",
            "Train accuracy = 93.03 / Train loss = 78.68122148513794\n",
            "Test accuracy = 86.45 / Test loss = 45.57086868584156\n",
            "[ Epoch: 18/20 ]\n",
            "Train accuracy = 93.38 / Train loss = 73.24949435889721\n",
            "Test accuracy = 87.88 / Test loss = 39.092181116342545\n",
            "[ Epoch: 19/20 ]\n",
            "Train accuracy = 93.71 / Train loss = 69.1190058067441\n",
            "Test accuracy = 88.35 / Test loss = 37.749985203146935\n"
          ],
          "name": "stdout"
        }
      ]
    },
    {
      "cell_type": "code",
      "metadata": {
        "id": "0F_aBYtM9Lji",
        "colab": {
          "base_uri": "https://localhost:8080/",
          "height": 295
        },
        "outputId": "8f8dd871-6917-466e-ee03-40459173abec"
      },
      "source": [
        "# 학습 과정에서의 스텝(step)에 따른 손실(loss) 값을 시각화\n",
        "plt.plot(with_BN_steps, with_BN_train_losses)\n",
        "plt.title('Train Loss')\n",
        "plt.xlabel('Step')\n",
        "plt.ylabel('Loss')\n",
        "plt.show()"
      ],
      "execution_count": null,
      "outputs": [
        {
          "output_type": "display_data",
          "data": {
            "image/png": "[encoded data removed]",
            "text/plain": [
              "<Figure size 432x288 with 1 Axes>"
            ]
          },
          "metadata": {
            "tags": [],
            "needs_background": "light"
          }
        }
      ]
    },
    {
      "cell_type": "code",
      "metadata": {
        "id": "YXJZOay18EYJ",
        "colab": {
          "base_uri": "https://localhost:8080/",
          "height": 573
        },
        "outputId": "45dc9846-bdf7-458f-ee58-07f2616dada2"
      },
      "source": [
        "# 테스트 정확도(accuracy) 및 손실(loss) 값을 시각화\n",
        "plt.plot([i for i in range(len(with_BN_test_accuracies))], with_BN_test_accuracies)\n",
        "plt.title('Test Accuracy')\n",
        "plt.xlabel('Epoch')\n",
        "plt.ylabel('Accuracy')\n",
        "plt.show()\n",
        "\n",
        "plt.plot([i for i in range(len(with_BN_test_losses))], with_BN_test_losses)\n",
        "plt.title('Test Loss')\n",
        "plt.xlabel('Epoch')\n",
        "plt.ylabel('Loss')\n",
        "plt.show()"
      ],
      "execution_count": null,
      "outputs": [
        {
          "output_type": "display_data",
          "data": {
            "image/png": "[encoded data removed]",
            "text/plain": [
              "<Figure size 432x288 with 1 Axes>"
            ]
          },
          "metadata": {
            "tags": [],
            "needs_background": "light"
          }
        },
        {
          "output_type": "display_data",
          "data": {
            "image/png": "[encoded data removed]",
            "text/plain": [
              "<Figure size 432x288 with 1 Axes>"
            ]
          },
          "metadata": {
            "tags": [],
            "needs_background": "light"
          }
        }
      ]
    },
    {
      "cell_type": "code",
      "metadata": {
        "id": "6wZ5mcVg9eMw",
        "colab": {
          "base_uri": "https://localhost:8080/",
          "height": 295
        },
        "outputId": "52e08162-2b7c-45e6-e87b-67fae7ca6530"
      },
      "source": [
        "# 배치 정규화를 적용하지 않은 모델과 배치 정규화를 적용한 모델 간의 비교\n",
        "plt.plot(without_BN_steps, without_BN_train_losses)\n",
        "plt.plot(with_BN_steps, with_BN_train_losses)\n",
        "plt.title('Train Loss')\n",
        "plt.xlabel('Step')\n",
        "plt.ylabel('Loss')\n",
        "plt.legend(['w/o BN', 'w/ BN'])\n",
        "plt.show()"
      ],
      "execution_count": null,
      "outputs": [
        {
          "output_type": "display_data",
          "data": {
            "image/png": "[encoded data removed]",
            "text/plain": [
              "<Figure size 432x288 with 1 Axes>"
            ]
          },
          "metadata": {
            "tags": [],
            "needs_background": "light"
          }
        }
      ]
    },
    {
      "cell_type": "code",
      "metadata": {
        "id": "WyhGOJKH8ann",
        "colab": {
          "base_uri": "https://localhost:8080/",
          "height": 573
        },
        "outputId": "a35cfec6-c354-4248-ba39-e0956eb02380"
      },
      "source": [
        "plt.plot([i for i in range(len(without_BN_test_accuracies))], without_BN_test_accuracies)\n",
        "plt.plot([i for i in range(len(with_BN_test_accuracies))], with_BN_test_accuracies)\n",
        "plt.title('Test Accuracy')\n",
        "plt.xlabel('Epoch')\n",
        "plt.ylabel('Accuracy')\n",
        "plt.legend(['w/o BN', 'w/ BN'])\n",
        "plt.show()\n",
        "\n",
        "plt.plot([i for i in range(len(without_BN_test_losses))], without_BN_test_losses)\n",
        "plt.plot([i for i in range(len(with_BN_test_losses))], with_BN_test_losses)\n",
        "plt.title('Test Loss')\n",
        "plt.xlabel('Epoch')\n",
        "plt.ylabel('Loss')\n",
        "plt.legend(['w/o BN', 'w/ BN'])\n",
        "plt.show()"
      ],
      "execution_count": null,
      "outputs": [
        {
          "output_type": "display_data",
          "data": {
            "image/png": "[encoded data removed]",
            "text/plain": [
              "<Figure size 432x288 with 1 Axes>"
            ]
          },
          "metadata": {
            "tags": [],
            "needs_background": "light"
          }
        },
        {
          "output_type": "display_data",
          "data": {
            "image/png": "[encoded data removed]",
            "text/plain": [
              "<Figure size 432x288 with 1 Axes>"
            ]
          },
          "metadata": {
            "tags": [],
            "needs_background": "light"
          }
        }
      ]
    }
  ]
}